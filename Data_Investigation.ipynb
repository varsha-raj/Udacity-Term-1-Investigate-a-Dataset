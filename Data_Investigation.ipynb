{
 "cells": [
  {
   "cell_type": "markdown",
   "metadata": {},
   "source": [
    "An explanatory data analysis was performed using The Movie Database (tmbd). tmbd is an editable database for both movies and TV shows. The dataset used for this experiment is in a csv file format with multiple columns providing wide variety of information on movies and/or documentrie and has records going back to the 1960's. \n",
    "\n",
    "The code below reads the dataset and load it as a pandas dataframe. All variables present in the dataset is displayed along with information on the presence of missing data using the indicators True/False. 'True' indicate the presence of missing values in the variable. In that case, missing values are removed from the dataset."
   ]
  },
  {
   "cell_type": "code",
   "execution_count": 6,
   "metadata": {},
   "outputs": [
    {
     "data": {
      "text/plain": [
       "id                      False\n",
       "imdb_id                  True\n",
       "popularity              False\n",
       "budget                  False\n",
       "revenue                 False\n",
       "original_title          False\n",
       "cast                     True\n",
       "homepage                 True\n",
       "director                 True\n",
       "tagline                  True\n",
       "keywords                 True\n",
       "overview                 True\n",
       "runtime                 False\n",
       "genres                   True\n",
       "production_companies     True\n",
       "release_date            False\n",
       "vote_count              False\n",
       "vote_average            False\n",
       "release_year            False\n",
       "budget_adj              False\n",
       "revenue_adj             False\n",
       "dtype: bool"
      ]
     },
     "execution_count": 6,
     "metadata": {},
     "output_type": "execute_result"
    }
   ],
   "source": [
    "#Import modules required for this analysis\n",
    "import numpy as np\n",
    "import pandas as pd\n",
    "import datetime as dt\n",
    "import calendar\n",
    "import matplotlib.pyplot as plt\n",
    "from matplotlib.ticker import AutoMinorLocator\n",
    "#Read tmdb csv data\n",
    "tmdb_data = pd.read_csv('tmdb-movies.csv')\n",
    "\n",
    "#Variables available in the dataset and indicate the presence of any missing values as True or otherwise display False for no \n",
    "#missing data\n",
    "tmdb_data.isnull().any()"
   ]
  },
  {
   "cell_type": "markdown",
   "metadata": {},
   "source": [
    "The basis of this study is to present some study questions and explore the dataset related to those study questions and display results using visulaization techniches like bar plots and line plots.\n",
    "\n",
    "Study Question 1:\n",
    "Using genres of your as a criteria, explore the trends across months.\n",
    "\n",
    "Study Question 2:\n",
    "Using the production company of your choice. discuss the trends in the number of movies released under that banner.\n",
    "\n",
    "\n",
    "Responces to study questions\n",
    "Responce to Question 1\n",
    "Genres is a very important characteristic in movies. Genres help classify movies into a specific categories. However in most cases, movies are generally a blend of multiple genres. For example a romantic movie can also be comedy and in this case the movie is classified as a Romantic/Comedy movie.\n",
    "\n",
    "For the ease of the analysis, five broad genre classification is used as listed below.\n",
    "1:Fiction\n",
    "2:Thriller \n",
    "3:Romance\n",
    "4:Comedy\n",
    "5:Horror\n",
    "\n",
    "For a movie that is a blend of genres, weight is given to genre in the order listed above.\n",
    "This means that if a movie is classified as Thriller/Fiction, then this movie falls under the 'Fiction' category.\n",
    "If a movie is classified as Horror/Comedy, then this movie falls under 'Comedy' category.\n",
    "\n",
    "\n"
   ]
  },
  {
   "cell_type": "code",
   "execution_count": null,
   "metadata": {},
   "outputs": [],
   "source": [
    "#Extract month using release date variable in the dataset\n",
    "tmdb_data['release_month'] = pd.DatetimeIndex(tmdb_data['release_date']).month\n",
    "#This is to get full month names instead of integer month values\n",
    "tmdb_data['release_month'] = tmdb_data['release_month'].apply(lambda x: calendar.month_name[x])\n",
    "\n",
    "#Select only release month and genres variables and save it\n",
    "#to new pandas dataframe called genre_data.\n",
    "#Drop missing values from the dataset\n",
    "genre_data = tmdb_data[['release_month','genres']].dropna()\n",
    "\n",
    "#Define genre list\n",
    "genre_list = ['Fiction','Thriller','Romance','Comedy','Horror']\n",
    "\n",
    "#Check each value in genres column in the genre_data dataset and extract the genre contained \n",
    "#in dataset. If a genre is a blend of multiple genres within the list, the weight is given to order\n",
    "#from left to right.\n",
    "#This code replaces the genre column with the genre that was identified as per the genre list\n",
    "for genre in genre_list:\n",
    "    genre_data.loc[genre_data['genres'].str.contains(genre),'genres']=genre\n",
    "\n",
    "   "
   ]
  },
  {
   "cell_type": "markdown",
   "metadata": {},
   "source": [
    "Bar plots were used to assess the distribution of genres averaged across months the movies were released, It should be noted that this particular analysis uses movies from not just hollywood but movies from other parts of the world too like bollywood movies. "
   ]
  },
  {
   "cell_type": "code",
   "execution_count": null,
   "metadata": {},
   "outputs": [],
   "source": [
    "#For each month, count the number of genre release under each category\n",
    "genre_data = genre_data[genre_data['genres'].isin(genre_list)].groupby('release_month')['genres'].value_counts().reset_index(name='count')\n",
    "\n",
    "#Create a pivot table with index as month names, column values with genre types and \n",
    "#count is the frequency value for the total number of movies realeased in that month for\n",
    "#particular genre\n",
    "plot_file = genre_data.pivot(index='release_month', columns='genres', values= 'count')\n",
    "#plot_file\n",
    "#Reorder the months column so that a column follows a chronological order\n",
    "months= ['January', 'February', 'March','April','May','June','July', 'August', 'September', 'October', 'November', 'December']\n",
    "plot_file = plot_file.reindex(months)\n",
    "\n",
    "ax = plot_file.plot(kind='bar', figsize=(15,10), fontsize=12)\n",
    "ax.set_xlabel('Release Month', fontsize=16)\n",
    "plt.show()\n",
    "\n"
   ]
  }
 ],
 "metadata": {
  "kernelspec": {
   "display_name": "Python 3",
   "language": "python",
   "name": "python3"
  },
  "language_info": {
   "codemirror_mode": {
    "name": "ipython",
    "version": 3
   },
   "file_extension": ".py",
   "mimetype": "text/x-python",
   "name": "python",
   "nbconvert_exporter": "python",
   "pygments_lexer": "ipython3",
   "version": "3.6.4"
  }
 },
 "nbformat": 4,
 "nbformat_minor": 2
}
